{
  "nbformat": 4,
  "nbformat_minor": 0,
  "metadata": {
    "colab": {
      "provenance": []
    },
    "kernelspec": {
      "name": "python3",
      "display_name": "Python 3"
    },
    "language_info": {
      "name": "python"
    }
  },
  "cells": [
    {
      "cell_type": "code",
      "execution_count": 1,
      "metadata": {
        "id": "avGIY0BP-sNx"
      },
      "outputs": [],
      "source": [
        "import pandas as pd\n",
        "import matplotlib.pyplot as plt\n",
        "import warnings\n",
        "from collections import Counter\n",
        "\n",
        "# set this so the graphs open internally\n",
        "%matplotlib inline"
      ]
    },
    {
      "cell_type": "code",
      "source": [
        "url = \"https://raw.githubusercontent.com/justmarkham/DAT8/master/data/chipotle.tsv\""
      ],
      "metadata": {
        "id": "aglwTepe_Kif"
      },
      "execution_count": 2,
      "outputs": []
    },
    {
      "cell_type": "code",
      "source": [
        "chipotle = pd.read_csv('https://raw.githubusercontent.com/justmarkham/DAT8/master/data/chipotle.tsv', sep = '\\t')"
      ],
      "metadata": {
        "id": "OCKqKycx_Z3N"
      },
      "execution_count": 3,
      "outputs": []
    },
    {
      "cell_type": "code",
      "source": [
        "print(chipotle.head())"
      ],
      "metadata": {
        "colab": {
          "base_uri": "https://localhost:8080/"
        },
        "id": "OCUHuuZ-_btX",
        "outputId": "f4a7dff3-70dd-438a-9c51-ffc58f130987"
      },
      "execution_count": 4,
      "outputs": [
        {
          "output_type": "stream",
          "name": "stdout",
          "text": [
            "   order_id  quantity                              item_name  \\\n",
            "0         1         1           Chips and Fresh Tomato Salsa   \n",
            "1         1         1                                   Izze   \n",
            "2         1         1                       Nantucket Nectar   \n",
            "3         1         1  Chips and Tomatillo-Green Chili Salsa   \n",
            "4         2         2                           Chicken Bowl   \n",
            "\n",
            "                                  choice_description item_price  \n",
            "0                                                NaN     $2.39   \n",
            "1                                       [Clementine]     $3.39   \n",
            "2                                            [Apple]     $3.39   \n",
            "3                                                NaN     $2.39   \n",
            "4  [Tomatillo-Red Chili Salsa (Hot), [Black Beans...    $16.98   \n"
          ]
        }
      ]
    },
    {
      "cell_type": "code",
      "source": [
        "chipotle['item_price'] = chipotle['item_price'].str.replace('$', '').str.strip()\n",
        "\n",
        "chipotle['item_price'] = chipotle['item_price'].astype(float)\n",
        "\n",
        "count = chipotle[chipotle['item_price'] > 10.00]['item_price'].count()\n",
        "\n",
        "print(\"Số lượng sản phẩm có giá trên $10.00:\", count)"
      ],
      "metadata": {
        "colab": {
          "base_uri": "https://localhost:8080/"
        },
        "id": "KAIWOGlM_gwq",
        "outputId": "c7f5171e-60ce-400b-f9c8-2845344d91e0"
      },
      "execution_count": 5,
      "outputs": [
        {
          "output_type": "stream",
          "name": "stdout",
          "text": [
            "Số lượng sản phẩm có giá trên $10.00: 1130\n"
          ]
        },
        {
          "output_type": "stream",
          "name": "stderr",
          "text": [
            "<ipython-input-5-f801c54585c0>:1: FutureWarning: The default value of regex will change from True to False in a future version. In addition, single character regular expressions will *not* be treated as literal strings when regex=True.\n",
            "  chipotle['item_price'] = chipotle['item_price'].str.replace('$', '').str.strip()\n"
          ]
        }
      ]
    },
    {
      "cell_type": "code",
      "source": [
        "products_gt_10 = chipotle.loc[chipotle['item_price'] > 10.00, 'item_name']\n",
        "\n",
        "print(products_gt_10)"
      ],
      "metadata": {
        "colab": {
          "base_uri": "https://localhost:8080/"
        },
        "id": "KinHd2jM_iMG",
        "outputId": "862e8d10-0d14-4a67-831d-ea4bad9f7cc5"
      },
      "execution_count": 6,
      "outputs": [
        {
          "output_type": "stream",
          "name": "stdout",
          "text": [
            "4             Chicken Bowl\n",
            "5             Chicken Bowl\n",
            "7            Steak Burrito\n",
            "13            Chicken Bowl\n",
            "23         Chicken Burrito\n",
            "               ...        \n",
            "4610         Steak Burrito\n",
            "4611        Veggie Burrito\n",
            "4617         Steak Burrito\n",
            "4618         Steak Burrito\n",
            "4619    Chicken Salad Bowl\n",
            "Name: item_name, Length: 1130, dtype: object\n"
          ]
        }
      ]
    },
    {
      "cell_type": "code",
      "source": [
        "sorted_products = products_gt_10.sort_values()\n",
        "\n",
        "print(sorted_products)"
      ],
      "metadata": {
        "colab": {
          "base_uri": "https://localhost:8080/"
        },
        "id": "by3Pfh66_iRc",
        "outputId": "2236ab22-22c9-48cf-e0d5-7ecb867bd33a"
      },
      "execution_count": 7,
      "outputs": [
        {
          "output_type": "stream",
          "name": "stdout",
          "text": [
            "3389    6 Pack Soft Drink\n",
            "1643        Barbacoa Bowl\n",
            "919         Barbacoa Bowl\n",
            "3547        Barbacoa Bowl\n",
            "4510        Barbacoa Bowl\n",
            "              ...        \n",
            "186     Veggie Salad Bowl\n",
            "295     Veggie Salad Bowl\n",
            "3889    Veggie Soft Tacos\n",
            "738     Veggie Soft Tacos\n",
            "1699    Veggie Soft Tacos\n",
            "Name: item_name, Length: 1130, dtype: object\n"
          ]
        }
      ]
    },
    {
      "cell_type": "code",
      "source": [
        "chipotle_sorted = chipotle.sort_values('item_price', ascending=False)\n",
        "most_expensive_quantity = chipo_sorted.iloc[0]['quantity']\n",
        "\n",
        "print(\"Số lượng sản phẩm đắt nhất đã được mua:\", most_expensive_quantity)"
      ],
      "metadata": {
        "colab": {
          "base_uri": "https://localhost:8080/"
        },
        "id": "6y2hrGdiAJU9",
        "outputId": "0eed1e02-985d-461c-be08-cccedc073af1"
      },
      "execution_count": 9,
      "outputs": [
        {
          "output_type": "stream",
          "name": "stdout",
          "text": [
            "Số lượng sản phẩm đắt nhất đã được mua: 15\n"
          ]
        }
      ]
    },
    {
      "cell_type": "code",
      "source": [
        "veggie_salad_orders = chipotle[chipotle['item_name'] == 'Veggie Salad Bowl']\n",
        "veggie_salad_quantity = veggie_salad_orders['quantity'].sum()\n",
        "\n",
        "print(\"Số lần món Veggie Salad Bowl đã được mua:\", veggie_salad_quantity)\n"
      ],
      "metadata": {
        "colab": {
          "base_uri": "https://localhost:8080/"
        },
        "id": "QXp0RoJMAUBZ",
        "outputId": "6834d149-0743-40df-d5ad-c5db285d4072"
      },
      "execution_count": 10,
      "outputs": [
        {
          "output_type": "stream",
          "name": "stdout",
          "text": [
            "Số lần món Veggie Salad Bowl đã được mua: 18\n"
          ]
        }
      ]
    },
    {
      "cell_type": "code",
      "source": [
        "multiple_soda_orders = chipotle[(chipotle['item_name'] == 'Canned Soda') & (chipotle['quantity'] > 1)]\n",
        "multiple_soda_count = len(multiple_soda_orders)\n",
        "\n",
        "print(\"Số lần có người đặt mua hơn một lon nước ngọt đóng hộp:\", multiple_soda_count)"
      ],
      "metadata": {
        "colab": {
          "base_uri": "https://localhost:8080/"
        },
        "id": "-BNYhzb3AXon",
        "outputId": "cd2f8227-084c-487b-ae66-cc29ef85d1d2"
      },
      "execution_count": 11,
      "outputs": [
        {
          "output_type": "stream",
          "name": "stdout",
          "text": [
            "Số lần có người đặt mua hơn một lon nước ngọt đóng hộp: 20\n"
          ]
        }
      ]
    }
  ]
}